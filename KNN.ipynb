{
  "nbformat": 4,
  "nbformat_minor": 0,
  "metadata": {
    "colab": {
      "name": "KNN.ipynb",
      "provenance": [],
      "mount_file_id": "1sLErYhchMdVzv0Dr7ysNrpRno53Kcwd2",
      "authorship_tag": "ABX9TyNaiEuTTy+PAnVlc5kv4LD1",
      "include_colab_link": true
    },
    "kernelspec": {
      "name": "python3",
      "display_name": "Python 3"
    },
    "language_info": {
      "name": "python"
    }
  },
  "cells": [
    {
      "cell_type": "markdown",
      "metadata": {
        "id": "view-in-github",
        "colab_type": "text"
      },
      "source": [
        "<a href=\"https://colab.research.google.com/github/hmh100298/KNN/blob/main/KNN.ipynb\" target=\"_parent\"><img src=\"https://colab.research.google.com/assets/colab-badge.svg\" alt=\"Open In Colab\"/></a>"
      ]
    },
    {
      "cell_type": "code",
      "metadata": {
        "id": "xmpGv-kTCxE4"
      },
      "source": [
        "import numpy as np\n",
        "import matplotlib.pyplot as plt\n",
        "from sklearn import neighbors, datasets\n",
        "from sklearn.metrics import accuracy_score\n",
        "from sklearn.model_selection import train_test_split"
      ],
      "execution_count": 44,
      "outputs": []
    },
    {
      "cell_type": "code",
      "metadata": {
        "colab": {
          "base_uri": "https://localhost:8080/"
        },
        "id": "dCpfk6xQDKC1",
        "outputId": "f07a8985-0edf-4ed3-cb7d-dd8c0258a1ae"
      },
      "source": [
        "iris = datasets.load_iris()\n",
        "iris_x = iris.data\n",
        "iris_y = iris.target\n",
        "\n",
        "x0 = iris_x[iris_y==0,:]\n",
        "x1 = iris_x[iris_y==1,:]\n",
        "x2 = iris_x[iris_y==2,:]\n",
        "\n",
        "def myweight(distances):\n",
        "  sigma2 = 0.5\n",
        "  return np.exp(-distances**2/sigma2)  \n",
        "\n",
        "\n",
        "x_train, x_test, y_train, y_test = train_test_split(iris_x, iris_y, test_size = 50)\n",
        "\n",
        "clf = neighbors.KNeighborsClassifier(n_neighbors = 10, p = 2, weights = myweight)\n",
        "clf.fit(x_train, y_train)\n",
        "y_pred = clf.predict(x_test)\n",
        "#print(y_pred)\n",
        "count = 0\n",
        "j = -1\n",
        "for i in y_pred:\n",
        "  j+=1\n",
        "  if y_pred[j] != y_test[j]:\n",
        "    count+=1\n",
        "#print(count)\n",
        "print(1-count/len(y_test))\n",
        "print (\"Accuracy of 1NN: %.2f %%\" %(100*accuracy_score(y_test, y_pred)))"
      ],
      "execution_count": 50,
      "outputs": [
        {
          "output_type": "stream",
          "text": [
            "1.0\n",
            "Accuracy of 1NN: 100.00 %\n"
          ],
          "name": "stdout"
        }
      ]
    }
  ]
}