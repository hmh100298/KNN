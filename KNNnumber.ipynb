{
  "nbformat": 4,
  "nbformat_minor": 0,
  "metadata": {
    "colab": {
      "name": "KNNnumber.ipynb",
      "provenance": [],
      "authorship_tag": "ABX9TyNPIzlQOymwX/r+cdek7sGX",
      "include_colab_link": true
    },
    "kernelspec": {
      "name": "python3",
      "display_name": "Python 3"
    },
    "language_info": {
      "name": "python"
    }
  },
  "cells": [
    {
      "cell_type": "markdown",
      "metadata": {
        "id": "view-in-github",
        "colab_type": "text"
      },
      "source": [
        "<a href=\"https://colab.research.google.com/github/hmh100298/KNN/blob/main/KNNnumber.ipynb\" target=\"_parent\"><img src=\"https://colab.research.google.com/assets/colab-badge.svg\" alt=\"Open In Colab\"/></a>"
      ]
    },
    {
      "cell_type": "code",
      "metadata": {
        "colab": {
          "base_uri": "https://localhost:8080/"
        },
        "id": "Nt4RSlAlvM2c",
        "outputId": "30abac23-25b1-4f2b-c384-549c0b44771f"
      },
      "source": [
        "!git clone https://github.com/hmh100298/KNN.git\n"
      ],
      "execution_count": 34,
      "outputs": [
        {
          "output_type": "stream",
          "text": [
            "Cloning into 'KNN'...\n",
            "remote: Enumerating objects: 46, done.\u001b[K\n",
            "remote: Counting objects: 100% (46/46), done.\u001b[K\n",
            "remote: Compressing objects: 100% (38/38), done.\u001b[K\n",
            "remote: Total 46 (delta 13), reused 16 (delta 3), pack-reused 0\u001b[K\n",
            "Unpacking objects: 100% (46/46), done.\n"
          ],
          "name": "stdout"
        }
      ]
    },
    {
      "cell_type": "code",
      "metadata": {
        "colab": {
          "base_uri": "https://localhost:8080/"
        },
        "id": "7y3JrtsHw6zr",
        "outputId": "1ea76355-333a-4967-b368-8491ae8003ea"
      },
      "source": [
        "!pip install python-mnist"
      ],
      "execution_count": 22,
      "outputs": [
        {
          "output_type": "stream",
          "text": [
            "Requirement already satisfied: python-mnist in /usr/local/lib/python3.7/dist-packages (0.7)\n"
          ],
          "name": "stdout"
        }
      ]
    },
    {
      "cell_type": "code",
      "metadata": {
        "colab": {
          "base_uri": "https://localhost:8080/"
        },
        "id": "80BPMOq7riOt",
        "outputId": "8bcfbbc7-1687-4205-eed8-fcf6d91a5404"
      },
      "source": [
        "import numpy as np\n",
        "from mnist import MNIST\n",
        "\n",
        "import matplotlib.pyplot as plt\n",
        "from sklearn import neighbors\n",
        "from sklearn.metrics import accuracy_score\n",
        "import time\n",
        "\n",
        "mndata = MNIST('/content/KNN/')\n",
        "mndata.load_testing()\n",
        "mndata.load_training()\n",
        "X_test = mndata.test_images\n",
        "X_train = mndata.train_images\n",
        "y_test = np.asarray(mndata.test_labels)\n",
        "y_train = np.asarray(mndata.train_labels)\n",
        "\n",
        "\n",
        "start_time = time.time()\n",
        "clf = neighbors.KNeighborsClassifier(n_neighbors = 1, p = 2)\n",
        "clf.fit(X_train, y_train)\n",
        "y_pred = clf.predict(X_test)\n",
        "end_time = time.time()\n",
        "print (\"Accuracy of 1NN for MNIST: %.2f %%\" %(100*accuracy_score(y_test, y_pred)))\n",
        "print (\"Running time: %.2f (s)\" % (end_time - start_time))\n"
      ],
      "execution_count": 36,
      "outputs": [
        {
          "output_type": "stream",
          "text": [
            "Accuracy of 1NN for MNIST: 96.91 %\n",
            "Running time: 996.54 (s)\n"
          ],
          "name": "stdout"
        }
      ]
    }
  ]
}